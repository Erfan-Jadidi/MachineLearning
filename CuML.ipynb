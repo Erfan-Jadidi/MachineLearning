{
  "nbformat": 4,
  "nbformat_minor": 0,
  "metadata": {
    "colab": {
      "provenance": [],
      "include_colab_link": true
    },
    "kernelspec": {
      "name": "python3",
      "display_name": "Python 3"
    },
    "accelerator": "GPU"
  },
  "cells": [
    {
      "cell_type": "markdown",
      "metadata": {
        "id": "view-in-github",
        "colab_type": "text"
      },
      "source": [
        "<a href=\"https://colab.research.google.com/github/Erfan-Jadidi/MachineLearning/blob/main/CuML.ipynb\" target=\"_parent\"><img src=\"https://colab.research.google.com/assets/colab-badge.svg\" alt=\"Open In Colab\"/></a>"
      ]
    },
    {
      "cell_type": "code",
      "metadata": {
        "id": "67T0090Jk2KL"
      },
      "source": [
        "# !nvidia-smi"
      ],
      "execution_count": null,
      "outputs": []
    },
    {
      "cell_type": "code",
      "metadata": {
        "id": "B0C8IV5TQnjN",
        "colab": {
          "base_uri": "https://localhost:8080/"
        },
        "outputId": "936c5526-4865-4ff2-a0d8-409915cdb0a5"
      },
      "source": [
        "# This get the RAPIDS-Colab install files and test check your GPU.  Run this and the next cell only.\n",
        "# Please read the output of this cell.  If your Colab Instance is not RAPIDS compatible, it will warn you and give you remediation steps.\n",
        "!git clone https://github.com/rapidsai/rapidsai-csp-utils.git\n",
        "!python rapidsai-csp-utils/colab/pip-install.py\n",
        "!pip install dask-ml\n"
      ],
      "execution_count": 8,
      "outputs": [
        {
          "output_type": "stream",
          "name": "stdout",
          "text": [
            "fatal: destination path 'rapidsai-csp-utils' already exists and is not an empty directory.\n",
            "Installing RAPIDS remaining 25.04 libraries\n",
            "Using Python 3.11.12 environment at: /usr\n",
            "Resolved 173 packages in 11.51s\n",
            "Downloading rmm-cu12 (1.5MiB)\n",
            "Downloading cudf-cu12 (1.7MiB)\n",
            "Downloading libcuspatial-cu12 (31.1MiB)\n",
            "Downloading libcuvs-cu12 (1.1GiB)\n",
            "Downloading ucx-py-cu12 (2.2MiB)\n",
            "Downloading pylibcudf-cu12 (26.4MiB)\n",
            "Downloading librmm-cu12 (2.9MiB)\n",
            "Downloading libcudf-cu12 (538.8MiB)\n",
            "Downloading cucim-cu12 (5.6MiB)\n",
            "Downloading libcugraph-cu12 (1.4GiB)\n",
            "Downloading cuspatial-cu12 (4.1MiB)\n",
            "Downloading raft-dask-cu12 (274.9MiB)\n",
            "Downloading cuml-cu12 (9.4MiB)\n",
            "Downloading shapely (2.4MiB)\n",
            "Downloading pylibcugraph-cu12 (2.0MiB)\n",
            "Downloading cuproj-cu12 (1.1MiB)\n",
            "Downloading libkvikio-cu12 (2.0MiB)\n",
            "Downloading libcuml-cu12 (404.9MiB)\n",
            "  × Failed to download `libraft-cu12==25.4.0`\n",
            "  ├─▶ Failed to fetch:\n",
            "  │   `https://pypi.nvidia.com/libraft-cu12/libraft_cu12-25.4.0-py3-none-manylinux_2_28_x86_64.whl`\n",
            "  ├─▶ error sending request for url\n",
            "  │   (https://pypi.nvidia.com/libraft-cu12/libraft_cu12-25.4.0-py3-none-manylinux_2_28_x86_64.whl)\n",
            "  ├─▶ client error (SendRequest)\n",
            "  ├─▶ http2 error\n",
            "  ╰─▶ connection error detected: flow-control protocol violated\n",
            "  help: `libraft-cu12` (v25.4.0) was included because `pylibraft-cu12`\n",
            "        (v25.4.0) depends on `libraft-cu12`\n",
            "\n",
            "        ***********************************************************************\n",
            "        The pip install of RAPIDS is complete.\n",
            "\n",
            "        Please do not run any further installation from the conda based installation methods, as they may cause issues!\n",
            "\n",
            "        Please ensure that you're pulling from the git repo to remain updated with the latest working install scripts.\n",
            "\n",
            "        Troubleshooting:\n",
            "            - If there is an installation failure, please check back on RAPIDSAI owned templates/notebooks to see how to update your personal files.\n",
            "            - If an installation failure persists when using the latest script, please make an issue on https://github.com/rapidsai-community/rapidsai-csp-utils\n",
            "        ***********************************************************************\n",
            "        \n",
            "Requirement already satisfied: dask-ml in /usr/local/lib/python3.11/dist-packages (2025.1.0)\n",
            "Requirement already satisfied: dask-glm>=0.2.0 in /usr/local/lib/python3.11/dist-packages (from dask-ml) (0.3.2)\n",
            "Requirement already satisfied: dask>=2025.1.0 in /usr/local/lib/python3.11/dist-packages (from dask[array,dataframe]>=2025.1.0->dask-ml) (2025.4.1)\n",
            "Requirement already satisfied: distributed>=2025.1.0 in /usr/local/lib/python3.11/dist-packages (from dask-ml) (2025.4.1)\n",
            "Requirement already satisfied: multipledispatch>=0.4.9 in /usr/local/lib/python3.11/dist-packages (from dask-ml) (1.0.0)\n",
            "Requirement already satisfied: numba>=0.51.0 in /usr/local/lib/python3.11/dist-packages (from dask-ml) (0.60.0)\n",
            "Requirement already satisfied: numpy>=1.24.0 in /usr/local/lib/python3.11/dist-packages (from dask-ml) (2.0.2)\n",
            "Requirement already satisfied: packaging in /usr/local/lib/python3.11/dist-packages (from dask-ml) (24.2)\n",
            "Requirement already satisfied: pandas>=2.0 in /usr/local/lib/python3.11/dist-packages (from dask-ml) (2.2.2)\n",
            "Requirement already satisfied: scikit-learn>=1.6.1 in /usr/local/lib/python3.11/dist-packages (from dask-ml) (1.6.1)\n",
            "Requirement already satisfied: scipy in /usr/local/lib/python3.11/dist-packages (from dask-ml) (1.15.2)\n",
            "Requirement already satisfied: click>=8.1 in /usr/local/lib/python3.11/dist-packages (from dask>=2025.1.0->dask[array,dataframe]>=2025.1.0->dask-ml) (8.1.8)\n",
            "Requirement already satisfied: cloudpickle>=3.0.0 in /usr/local/lib/python3.11/dist-packages (from dask>=2025.1.0->dask[array,dataframe]>=2025.1.0->dask-ml) (3.1.1)\n",
            "Requirement already satisfied: fsspec>=2021.09.0 in /usr/local/lib/python3.11/dist-packages (from dask>=2025.1.0->dask[array,dataframe]>=2025.1.0->dask-ml) (2025.3.2)\n",
            "Requirement already satisfied: partd>=1.4.0 in /usr/local/lib/python3.11/dist-packages (from dask>=2025.1.0->dask[array,dataframe]>=2025.1.0->dask-ml) (1.4.2)\n",
            "Requirement already satisfied: pyyaml>=5.3.1 in /usr/local/lib/python3.11/dist-packages (from dask>=2025.1.0->dask[array,dataframe]>=2025.1.0->dask-ml) (6.0.2)\n",
            "Requirement already satisfied: toolz>=0.10.0 in /usr/local/lib/python3.11/dist-packages (from dask>=2025.1.0->dask[array,dataframe]>=2025.1.0->dask-ml) (0.12.1)\n",
            "Requirement already satisfied: importlib_metadata>=4.13.0 in /usr/local/lib/python3.11/dist-packages (from dask>=2025.1.0->dask[array,dataframe]>=2025.1.0->dask-ml) (8.7.0)\n",
            "Requirement already satisfied: sparse>=0.7.0 in /usr/local/lib/python3.11/dist-packages (from dask-glm>=0.2.0->dask-ml) (0.16.0)\n",
            "Requirement already satisfied: pyarrow>=14.0.1 in /usr/local/lib/python3.11/dist-packages (from dask[array,dataframe]>=2025.1.0->dask-ml) (18.1.0)\n",
            "Requirement already satisfied: jinja2>=2.10.3 in /usr/local/lib/python3.11/dist-packages (from distributed>=2025.1.0->dask-ml) (3.1.6)\n",
            "Requirement already satisfied: locket>=1.0.0 in /usr/local/lib/python3.11/dist-packages (from distributed>=2025.1.0->dask-ml) (1.0.0)\n",
            "Requirement already satisfied: msgpack>=1.0.2 in /usr/local/lib/python3.11/dist-packages (from distributed>=2025.1.0->dask-ml) (1.1.0)\n",
            "Requirement already satisfied: psutil>=5.8.0 in /usr/local/lib/python3.11/dist-packages (from distributed>=2025.1.0->dask-ml) (5.9.5)\n",
            "Requirement already satisfied: sortedcontainers>=2.0.5 in /usr/local/lib/python3.11/dist-packages (from distributed>=2025.1.0->dask-ml) (2.4.0)\n",
            "Requirement already satisfied: tblib>=1.6.0 in /usr/local/lib/python3.11/dist-packages (from distributed>=2025.1.0->dask-ml) (3.1.0)\n",
            "Requirement already satisfied: tornado>=6.2.0 in /usr/local/lib/python3.11/dist-packages (from distributed>=2025.1.0->dask-ml) (6.4.2)\n",
            "Requirement already satisfied: urllib3>=1.26.5 in /usr/local/lib/python3.11/dist-packages (from distributed>=2025.1.0->dask-ml) (2.4.0)\n",
            "Requirement already satisfied: zict>=3.0.0 in /usr/local/lib/python3.11/dist-packages (from distributed>=2025.1.0->dask-ml) (3.0.0)\n",
            "Requirement already satisfied: llvmlite<0.44,>=0.43.0dev0 in /usr/local/lib/python3.11/dist-packages (from numba>=0.51.0->dask-ml) (0.43.0)\n",
            "Requirement already satisfied: python-dateutil>=2.8.2 in /usr/local/lib/python3.11/dist-packages (from pandas>=2.0->dask-ml) (2.9.0.post0)\n",
            "Requirement already satisfied: pytz>=2020.1 in /usr/local/lib/python3.11/dist-packages (from pandas>=2.0->dask-ml) (2025.2)\n",
            "Requirement already satisfied: tzdata>=2022.7 in /usr/local/lib/python3.11/dist-packages (from pandas>=2.0->dask-ml) (2025.2)\n",
            "Requirement already satisfied: joblib>=1.2.0 in /usr/local/lib/python3.11/dist-packages (from scikit-learn>=1.6.1->dask-ml) (1.4.2)\n",
            "Requirement already satisfied: threadpoolctl>=3.1.0 in /usr/local/lib/python3.11/dist-packages (from scikit-learn>=1.6.1->dask-ml) (3.6.0)\n",
            "Requirement already satisfied: zipp>=3.20 in /usr/local/lib/python3.11/dist-packages (from importlib_metadata>=4.13.0->dask>=2025.1.0->dask[array,dataframe]>=2025.1.0->dask-ml) (3.21.0)\n",
            "Requirement already satisfied: MarkupSafe>=2.0 in /usr/local/lib/python3.11/dist-packages (from jinja2>=2.10.3->distributed>=2025.1.0->dask-ml) (3.0.2)\n",
            "Requirement already satisfied: six>=1.5 in /usr/local/lib/python3.11/dist-packages (from python-dateutil>=2.8.2->pandas>=2.0->dask-ml) (1.17.0)\n"
          ]
        }
      ]
    },
    {
      "cell_type": "code",
      "metadata": {
        "id": "4nLrk46BllED",
        "colab": {
          "base_uri": "https://localhost:8080/",
          "height": 36
        },
        "outputId": "93de1e98-6c33-4d12-d5e2-5bbb63e90cb5"
      },
      "source": [
        "import cudf\n",
        "cudf.__version__"
      ],
      "execution_count": 9,
      "outputs": [
        {
          "output_type": "execute_result",
          "data": {
            "text/plain": [
              "'25.02.01'"
            ],
            "application/vnd.google.colaboratory.intrinsic+json": {
              "type": "string"
            }
          },
          "metadata": {},
          "execution_count": 9
        }
      ]
    },
    {
      "cell_type": "code",
      "source": [
        "import cuml\n",
        "cuml.__version__"
      ],
      "metadata": {
        "colab": {
          "base_uri": "https://localhost:8080/",
          "height": 36
        },
        "id": "xgAFgI15ddf6",
        "outputId": "7f1fec05-5c99-461a-8a8a-375144a0df8b"
      },
      "execution_count": 10,
      "outputs": [
        {
          "output_type": "execute_result",
          "data": {
            "text/plain": [
              "'25.02.01'"
            ],
            "application/vnd.google.colaboratory.intrinsic+json": {
              "type": "string"
            }
          },
          "metadata": {},
          "execution_count": 10
        }
      ]
    },
    {
      "cell_type": "code",
      "source": [
        "!pip install dask-ml\n",
        "!git clone https://github.com/rapidsai/rapidsai-csp-utils.git\n",
        "!python rapidsai-csp-utils/colab/pip-install.py"
      ],
      "metadata": {
        "id": "pD_v85yzYxDo",
        "outputId": "5f01b2da-dff7-4b8b-b9f6-b14ab5ad7878",
        "colab": {
          "base_uri": "https://localhost:8080/"
        }
      },
      "execution_count": 14,
      "outputs": [
        {
          "output_type": "stream",
          "name": "stdout",
          "text": [
            "Requirement already satisfied: dask-ml in /usr/local/lib/python3.11/dist-packages (2025.1.0)\n",
            "Requirement already satisfied: dask-glm>=0.2.0 in /usr/local/lib/python3.11/dist-packages (from dask-ml) (0.3.2)\n",
            "Requirement already satisfied: dask>=2025.1.0 in /usr/local/lib/python3.11/dist-packages (from dask[array,dataframe]>=2025.1.0->dask-ml) (2025.4.1)\n",
            "Requirement already satisfied: distributed>=2025.1.0 in /usr/local/lib/python3.11/dist-packages (from dask-ml) (2025.4.1)\n",
            "Requirement already satisfied: multipledispatch>=0.4.9 in /usr/local/lib/python3.11/dist-packages (from dask-ml) (1.0.0)\n",
            "Requirement already satisfied: numba>=0.51.0 in /usr/local/lib/python3.11/dist-packages (from dask-ml) (0.60.0)\n",
            "Requirement already satisfied: numpy>=1.24.0 in /usr/local/lib/python3.11/dist-packages (from dask-ml) (2.0.2)\n",
            "Requirement already satisfied: packaging in /usr/local/lib/python3.11/dist-packages (from dask-ml) (24.2)\n",
            "Requirement already satisfied: pandas>=2.0 in /usr/local/lib/python3.11/dist-packages (from dask-ml) (2.2.2)\n",
            "Requirement already satisfied: scikit-learn>=1.6.1 in /usr/local/lib/python3.11/dist-packages (from dask-ml) (1.6.1)\n",
            "Requirement already satisfied: scipy in /usr/local/lib/python3.11/dist-packages (from dask-ml) (1.15.2)\n",
            "Requirement already satisfied: click>=8.1 in /usr/local/lib/python3.11/dist-packages (from dask>=2025.1.0->dask[array,dataframe]>=2025.1.0->dask-ml) (8.1.8)\n",
            "Requirement already satisfied: cloudpickle>=3.0.0 in /usr/local/lib/python3.11/dist-packages (from dask>=2025.1.0->dask[array,dataframe]>=2025.1.0->dask-ml) (3.1.1)\n",
            "Requirement already satisfied: fsspec>=2021.09.0 in /usr/local/lib/python3.11/dist-packages (from dask>=2025.1.0->dask[array,dataframe]>=2025.1.0->dask-ml) (2025.3.2)\n",
            "Requirement already satisfied: partd>=1.4.0 in /usr/local/lib/python3.11/dist-packages (from dask>=2025.1.0->dask[array,dataframe]>=2025.1.0->dask-ml) (1.4.2)\n",
            "Requirement already satisfied: pyyaml>=5.3.1 in /usr/local/lib/python3.11/dist-packages (from dask>=2025.1.0->dask[array,dataframe]>=2025.1.0->dask-ml) (6.0.2)\n",
            "Requirement already satisfied: toolz>=0.10.0 in /usr/local/lib/python3.11/dist-packages (from dask>=2025.1.0->dask[array,dataframe]>=2025.1.0->dask-ml) (0.12.1)\n",
            "Requirement already satisfied: importlib_metadata>=4.13.0 in /usr/local/lib/python3.11/dist-packages (from dask>=2025.1.0->dask[array,dataframe]>=2025.1.0->dask-ml) (8.7.0)\n",
            "Requirement already satisfied: sparse>=0.7.0 in /usr/local/lib/python3.11/dist-packages (from dask-glm>=0.2.0->dask-ml) (0.16.0)\n",
            "Requirement already satisfied: pyarrow>=14.0.1 in /usr/local/lib/python3.11/dist-packages (from dask[array,dataframe]>=2025.1.0->dask-ml) (18.1.0)\n",
            "Requirement already satisfied: jinja2>=2.10.3 in /usr/local/lib/python3.11/dist-packages (from distributed>=2025.1.0->dask-ml) (3.1.6)\n",
            "Requirement already satisfied: locket>=1.0.0 in /usr/local/lib/python3.11/dist-packages (from distributed>=2025.1.0->dask-ml) (1.0.0)\n",
            "Requirement already satisfied: msgpack>=1.0.2 in /usr/local/lib/python3.11/dist-packages (from distributed>=2025.1.0->dask-ml) (1.1.0)\n",
            "Requirement already satisfied: psutil>=5.8.0 in /usr/local/lib/python3.11/dist-packages (from distributed>=2025.1.0->dask-ml) (5.9.5)\n",
            "Requirement already satisfied: sortedcontainers>=2.0.5 in /usr/local/lib/python3.11/dist-packages (from distributed>=2025.1.0->dask-ml) (2.4.0)\n",
            "Requirement already satisfied: tblib>=1.6.0 in /usr/local/lib/python3.11/dist-packages (from distributed>=2025.1.0->dask-ml) (3.1.0)\n",
            "Requirement already satisfied: tornado>=6.2.0 in /usr/local/lib/python3.11/dist-packages (from distributed>=2025.1.0->dask-ml) (6.4.2)\n",
            "Requirement already satisfied: urllib3>=1.26.5 in /usr/local/lib/python3.11/dist-packages (from distributed>=2025.1.0->dask-ml) (2.4.0)\n",
            "Requirement already satisfied: zict>=3.0.0 in /usr/local/lib/python3.11/dist-packages (from distributed>=2025.1.0->dask-ml) (3.0.0)\n",
            "Requirement already satisfied: llvmlite<0.44,>=0.43.0dev0 in /usr/local/lib/python3.11/dist-packages (from numba>=0.51.0->dask-ml) (0.43.0)\n",
            "Requirement already satisfied: python-dateutil>=2.8.2 in /usr/local/lib/python3.11/dist-packages (from pandas>=2.0->dask-ml) (2.9.0.post0)\n",
            "Requirement already satisfied: pytz>=2020.1 in /usr/local/lib/python3.11/dist-packages (from pandas>=2.0->dask-ml) (2025.2)\n",
            "Requirement already satisfied: tzdata>=2022.7 in /usr/local/lib/python3.11/dist-packages (from pandas>=2.0->dask-ml) (2025.2)\n",
            "Requirement already satisfied: joblib>=1.2.0 in /usr/local/lib/python3.11/dist-packages (from scikit-learn>=1.6.1->dask-ml) (1.4.2)\n",
            "Requirement already satisfied: threadpoolctl>=3.1.0 in /usr/local/lib/python3.11/dist-packages (from scikit-learn>=1.6.1->dask-ml) (3.6.0)\n",
            "Requirement already satisfied: zipp>=3.20 in /usr/local/lib/python3.11/dist-packages (from importlib_metadata>=4.13.0->dask>=2025.1.0->dask[array,dataframe]>=2025.1.0->dask-ml) (3.21.0)\n",
            "Requirement already satisfied: MarkupSafe>=2.0 in /usr/local/lib/python3.11/dist-packages (from jinja2>=2.10.3->distributed>=2025.1.0->dask-ml) (3.0.2)\n",
            "Requirement already satisfied: six>=1.5 in /usr/local/lib/python3.11/dist-packages (from python-dateutil>=2.8.2->pandas>=2.0->dask-ml) (1.17.0)\n",
            "fatal: destination path 'rapidsai-csp-utils' already exists and is not an empty directory.\n",
            "Installing RAPIDS remaining 25.04 libraries\n",
            "Using Python 3.11.12 environment at: /usr\n",
            "Resolved 173 packages in 9.71s\n",
            "Downloading cudf-cu12 (1.7MiB)\n",
            "Downloading rmm-cu12 (1.5MiB)\n",
            "Downloading ucx-py-cu12 (2.2MiB)\n",
            "Downloading libcuspatial-cu12 (31.1MiB)\n",
            "Downloading libcuvs-cu12 (1.1GiB)\n",
            "Downloading cucim-cu12 (5.6MiB)\n",
            "Downloading libcugraph-cu12 (1.4GiB)\n",
            "Downloading cuspatial-cu12 (4.1MiB)\n",
            "Downloading raft-dask-cu12 (274.9MiB)\n",
            "Downloading pylibcugraph-cu12 (2.0MiB)\n",
            "Downloading cuproj-cu12 (1.1MiB)\n",
            "Downloading libkvikio-cu12 (2.0MiB)\n",
            "Downloading libcuml-cu12 (404.9MiB)\n",
            "Downloading libraft-cu12 (20.8MiB)\n",
            "Downloading cugraph-cu12 (3.0MiB)\n",
            "  × Failed to download `libcudf-cu12==25.4.0`\n",
            "  ├─▶ Failed to fetch:\n",
            "  │   `https://pypi.nvidia.com/libcudf-cu12/libcudf_cu12-25.4.0-py3-none-manylinux_2_28_x86_64.whl`\n",
            "  ├─▶ error sending request for url\n",
            "  │   (https://pypi.nvidia.com/libcudf-cu12/libcudf_cu12-25.4.0-py3-none-manylinux_2_28_x86_64.whl)\n",
            "  ├─▶ client error (SendRequest)\n",
            "  ├─▶ http2 error\n",
            "  ╰─▶ connection error detected: flow-control protocol violated\n",
            "  help: `libcudf-cu12` (v25.4.0) was included because `cudf-cu12` (v25.4.0)\n",
            "        depends on `libcudf-cu12`\n",
            "\n",
            "        ***********************************************************************\n",
            "        The pip install of RAPIDS is complete.\n",
            "\n",
            "        Please do not run any further installation from the conda based installation methods, as they may cause issues!\n",
            "\n",
            "        Please ensure that you're pulling from the git repo to remain updated with the latest working install scripts.\n",
            "\n",
            "        Troubleshooting:\n",
            "            - If there is an installation failure, please check back on RAPIDSAI owned templates/notebooks to see how to update your personal files.\n",
            "            - If an installation failure persists when using the latest script, please make an issue on https://github.com/rapidsai-community/rapidsai-csp-utils\n",
            "        ***********************************************************************\n",
            "        \n"
          ]
        }
      ]
    },
    {
      "cell_type": "code",
      "source": [
        "from cuml.model_selection import train_test_split\n",
        "from cuml.ensemble import RandomForestClassifier\n",
        "from cuml.metrics import accuracy_score\n",
        "import pandas as pd\n",
        "import numpy as np\n",
        "import cudf\n",
        "import time\n",
        "import random"
      ],
      "metadata": {
        "id": "9GE3Jvj8d3_M"
      },
      "execution_count": 19,
      "outputs": []
    },
    {
      "cell_type": "code",
      "source": [
        "heart_disease = pd.read_csv(\"https://raw.githubusercontent.com/mrdbourke/zero-to-mastery-ml/master/data/heart-disease.csv\")\n",
        "\n",
        "# تنظیم seed و تایمر\n",
        "np.random.seed(42)\n",
        "random.seed(42)\n",
        "start_time = time.time()\n",
        "\n",
        "# تعریف فضای هایپرپارامترها\n",
        "param_distributions = {\n",
        "    \"n_estimators\": [10, 100, 200, 500, 1000, 1200],\n",
        "    \"max_depth\": [None, 5, 10, 20, 30],\n",
        "    \"max_features\": [\"sqrt\", \"log2\", None],\n",
        "    \"min_samples_split\": [2, 4, 6, 8],\n",
        "    \"min_samples_leaf\": [1, 2, 4, 8]\n",
        "}\n",
        "\n",
        "# آماده‌سازی داده‌ها\n",
        "X = heart_disease.drop(\"target\", axis=1)\n",
        "y = heart_disease[\"target\"]\n",
        "\n",
        "# تبدیل به cudf\n",
        "X_cudf = cudf.DataFrame.from_pandas(X)\n",
        "y_cudf = cudf.Series(y)\n",
        "\n",
        "# تقسیم داده‌ها برای GPU\n",
        "X_train, X_test, y_train, y_test = train_test_split(X_cudf, y_cudf, test_size=0.2)\n",
        "\n",
        "# جستجوی دستی تصادفی\n",
        "n_iter = 30\n",
        "best_score = 0\n",
        "best_params = None\n",
        "\n",
        "for i in range(n_iter):\n",
        "    params = {key: random.choice(val) for key, val in param_distributions.items()}\n",
        "\n",
        "    # حذف None چون cuml پشتیبانی نمی‌کنه از None برای بعضی پارامترها\n",
        "    if params[\"max_depth\"] is None:\n",
        "        del params[\"max_depth\"]\n",
        "    if params[\"max_features\"] is None:\n",
        "        del params[\"max_features\"]\n",
        "\n",
        "    model = RandomForestClassifier(**params)\n",
        "    model.fit(X_train, y_train)\n",
        "    preds = model.predict(X_test)\n",
        "    score = accuracy_score(y_test, preds)\n",
        "\n",
        "    if score > best_score:\n",
        "        best_score = score\n",
        "        best_params = params\n",
        "\n",
        "    print(f\"[{i+1}/{n_iter}] Accuracy: {score:.4f}, Params: {params}\")\n",
        "\n",
        "end_time = time.time()\n",
        "\n",
        "print(\"\\n[RESULT] Best Score:\", best_score)\n",
        "print(\"[RESULT] Best Params:\", best_params)\n",
        "print(f\"[TIME] Total time taken for {n_iter} random searches: {end_time - start_time:.2f} seconds.\")"
      ],
      "metadata": {
        "id": "UUBSZ_TSZZRY",
        "outputId": "29f356b6-3bb5-4e49-f28d-63165fae2040",
        "colab": {
          "base_uri": "https://localhost:8080/"
        }
      },
      "execution_count": 20,
      "outputs": [
        {
          "output_type": "stream",
          "name": "stdout",
          "text": [
            "[1/30] Accuracy: 0.8167, Params: {'n_estimators': 1200, 'max_features': 'sqrt', 'min_samples_split': 6, 'min_samples_leaf': 2}\n",
            "[2/30] Accuracy: 0.7833, Params: {'n_estimators': 100, 'max_depth': 5, 'min_samples_split': 2, 'min_samples_leaf': 1}\n",
            "[3/30] Accuracy: 0.8167, Params: {'n_estimators': 1000, 'max_depth': 20, 'max_features': 'sqrt', 'min_samples_split': 2, 'min_samples_leaf': 1}\n",
            "[4/30] Accuracy: 0.8167, Params: {'n_estimators': 100, 'max_depth': 5, 'min_samples_split': 2, 'min_samples_leaf': 2}\n",
            "[5/30] Accuracy: 0.8333, Params: {'n_estimators': 1200, 'max_depth': 30, 'max_features': 'log2', 'min_samples_split': 4, 'min_samples_leaf': 8}\n",
            "[6/30] Accuracy: 0.8500, Params: {'n_estimators': 1000, 'max_depth': 10, 'max_features': 'sqrt', 'min_samples_split': 4, 'min_samples_leaf': 8}\n",
            "[7/30] Accuracy: 0.8167, Params: {'n_estimators': 200, 'max_depth': 10, 'max_features': 'sqrt', 'min_samples_split': 4, 'min_samples_leaf': 4}\n",
            "[8/30] Accuracy: 0.8000, Params: {'n_estimators': 10, 'max_features': 'log2', 'min_samples_split': 2, 'min_samples_leaf': 4}\n",
            "[9/30] Accuracy: 0.8000, Params: {'n_estimators': 200, 'max_depth': 30, 'max_features': 'log2', 'min_samples_split': 2, 'min_samples_leaf': 8}\n",
            "[10/30] Accuracy: 0.8167, Params: {'n_estimators': 1000, 'max_features': 'log2', 'min_samples_split': 2, 'min_samples_leaf': 4}\n",
            "[11/30] Accuracy: 0.8167, Params: {'n_estimators': 1200, 'max_depth': 30, 'max_features': 'log2', 'min_samples_split': 4, 'min_samples_leaf': 1}\n",
            "[12/30] Accuracy: 0.7333, Params: {'n_estimators': 10, 'max_depth': 5, 'max_features': 'log2', 'min_samples_split': 2, 'min_samples_leaf': 2}\n",
            "[13/30] Accuracy: 0.8000, Params: {'n_estimators': 10, 'max_depth': 20, 'max_features': 'log2', 'min_samples_split': 8, 'min_samples_leaf': 4}\n",
            "[14/30] Accuracy: 0.8333, Params: {'n_estimators': 100, 'max_depth': 10, 'max_features': 'log2', 'min_samples_split': 4, 'min_samples_leaf': 4}\n",
            "[15/30] Accuracy: 0.8167, Params: {'n_estimators': 1200, 'min_samples_split': 4, 'min_samples_leaf': 2}\n",
            "[16/30] Accuracy: 0.8333, Params: {'n_estimators': 100, 'max_depth': 20, 'max_features': 'log2', 'min_samples_split': 6, 'min_samples_leaf': 2}\n",
            "[17/30] Accuracy: 0.8167, Params: {'n_estimators': 1200, 'max_depth': 10, 'max_features': 'sqrt', 'min_samples_split': 4, 'min_samples_leaf': 1}\n",
            "[18/30] Accuracy: 0.8167, Params: {'n_estimators': 200, 'max_depth': 20, 'max_features': 'log2', 'min_samples_split': 2, 'min_samples_leaf': 2}\n",
            "[19/30] Accuracy: 0.8500, Params: {'n_estimators': 1000, 'max_depth': 10, 'max_features': 'sqrt', 'min_samples_split': 8, 'min_samples_leaf': 8}\n",
            "[20/30] Accuracy: 0.8167, Params: {'n_estimators': 1200, 'max_depth': 20, 'max_features': 'sqrt', 'min_samples_split': 6, 'min_samples_leaf': 2}\n",
            "[21/30] Accuracy: 0.8500, Params: {'n_estimators': 100, 'max_depth': 30, 'min_samples_split': 6, 'min_samples_leaf': 8}\n",
            "[22/30] Accuracy: 0.8167, Params: {'n_estimators': 1000, 'max_depth': 20, 'max_features': 'log2', 'min_samples_split': 4, 'min_samples_leaf': 2}\n",
            "[23/30] Accuracy: 0.8167, Params: {'n_estimators': 1000, 'max_depth': 20, 'max_features': 'sqrt', 'min_samples_split': 2, 'min_samples_leaf': 1}\n",
            "[24/30] Accuracy: 0.8000, Params: {'n_estimators': 100, 'max_depth': 5, 'min_samples_split': 8, 'min_samples_leaf': 1}\n",
            "[25/30] Accuracy: 0.8167, Params: {'n_estimators': 500, 'max_depth': 20, 'min_samples_split': 8, 'min_samples_leaf': 4}\n",
            "[26/30] Accuracy: 0.8167, Params: {'n_estimators': 1000, 'min_samples_split': 2, 'min_samples_leaf': 4}\n",
            "[27/30] Accuracy: 0.8333, Params: {'n_estimators': 1200, 'max_depth': 10, 'max_features': 'sqrt', 'min_samples_split': 6, 'min_samples_leaf': 8}\n",
            "[28/30] Accuracy: 0.8333, Params: {'n_estimators': 100, 'max_depth': 20, 'max_features': 'sqrt', 'min_samples_split': 6, 'min_samples_leaf': 2}\n",
            "[29/30] Accuracy: 0.8167, Params: {'n_estimators': 1000, 'min_samples_split': 6, 'min_samples_leaf': 2}\n",
            "[30/30] Accuracy: 0.8333, Params: {'n_estimators': 100, 'max_depth': 10, 'max_features': 'sqrt', 'min_samples_split': 2, 'min_samples_leaf': 4}\n",
            "\n",
            "[RESULT] Best Score: 0.8500000238418579\n",
            "[RESULT] Best Params: {'n_estimators': 1000, 'max_depth': 10, 'max_features': 'sqrt', 'min_samples_split': 4, 'min_samples_leaf': 8}\n",
            "[TIME] Total time taken for 30 random searches: 37.23 seconds.\n"
          ]
        }
      ]
    }
  ]
}